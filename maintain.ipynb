{
  "nbformat": 4,
  "nbformat_minor": 0,
  "metadata": {
    "colab": {
      "name": "xcgum.ipynb",
      "provenance": [],
      "collapsed_sections": [],
      "authorship_tag": "ABX9TyONDhgFtbLy9K4BGI2xo+/D",
      "include_colab_link": true
    },
    "kernelspec": {
      "display_name": "Python 3",
      "name": "python3"
    },
    "language_info": {
      "name": "python"
    }
  },
  "cells": [
    {
      "cell_type": "markdown",
      "metadata": {
        "id": "view-in-github",
        "colab_type": "text"
      },
      "source": [
        "<a href=\"https://colab.research.google.com/github/fengivan/Fluids-Lab/blob/master/maintain.ipynb\" target=\"_parent\"><img src=\"https://colab.research.google.com/assets/colab-badge.svg\" alt=\"Open In Colab\"/></a>"
      ]
    },
    {
      "cell_type": "code",
      "metadata": {
        "id": "T9sKzwoWNx4W"
      },
      "source": [
        "import numpy as np\n",
        "from time import sleep\n",
        "\n",
        "\n",
        "import pandas\n",
        "import time\n",
        "import sys\n",
        "import threading\n",
        "\n",
        "def getDeltaP(seconds): #returns the average deltaP over the last \"seconds\"\n",
        "    header = [\"Time\", \"P1\", \"P2\", \"P3\", \"P4\", \"AvgP1\", \"AvgP2\", \"AvgFlow\", \"AvgTemp\", \"CMFlow\", \"CMDensity\", \"CM Temp\", \"Freq Set\"]\n",
        "    useless = [\"Time\", \"P1\", \"P2\",  \"AvgP1\", \"AvgP2\", \"AvgFlow\", \"AvgTemp\",\"CMFlow\",  \"CMDensity\", \"CM Temp\", \"Freq Set\"]\n",
        "\n",
        "    df=pandas.read_csv(\"/home/pi/Desktop/Shared/Fluids-Lab/data\", names = header)\n",
        "    df=(((df.tail(seconds*10+2)).head(seconds*10)).drop(useless,1)).astype(float)\n",
        "    deltaP=df[\"P4\"].mean()-df[\"P3\"].mean()\n",
        "    return deltaP\n",
        "\n",
        "\n",
        "def addxanthan(amount):  #adds \"amount grams of xcgum to the tank\"\n",
        "    addtime=round((amount/.8775)+.7)\n",
        "    stopAdd = threading.Timer(addtime, stop)\n",
        "    #print(\"Adding \"+str(addtime*.82)+ \" grams of XC Gum over \"+ str(addtime) + \" seconds\", file=writeTo)\n",
        "    outputs.write_single(0,745)\n",
        "    stopAdd.start()\n",
        "    \n",
        "def stop():\n",
        "    outputs.write_single(0,0)\n",
        "    \n",
        "def stable(seconds):   #determines if the deltaP is stable over the past x seconds, criteria is no more than 1% of deltaP measurements have more than a 10% difference with the average over the past x seconds.\n",
        "    header = [\"Time\", \"P1\", \"P2\", \"P3\", \"P4\", \"AvgP1\", \"AvgP2\", \"AvgFlow\", \"AvgTemp\", \"CMFlow\", \"CMDensity\", \"CM Temp\", \"Freq Set\"]\n",
        "    useless = [\"Time\", \"P1\", \"P2\",  \"AvgP1\", \"AvgP2\", \"AvgFlow\", \"AvgTemp\",\"CMFlow\",  \"CMDensity\", \"CM Temp\", \"Freq Set\"]\n",
        "\n",
        "    df=pandas.read_csv(\"editeddata\", names = header)\n",
        "    df=(((df.tail(seconds*10+2)).head(seconds*10)).drop(useless,1)).astype(float)\n",
        "    avg=df[\"P4\"].mean()-df[\"P3\"].mean()\n",
        "    p1=df[\"P4\"].tolist()\n",
        "    p2=df[\"P3\"].tolist()\n",
        "    count=0\n",
        "    print(len(p1))\n",
        "    for i in range(0,len(p1)):\n",
        "      if (p1[i]-p2[i])>avg*1.1 or (p1[i]-p2[i])<avg*.9:\n",
        "        count=count+1\n",
        "      \n",
        "    if(count<seconds/10):\n",
        "      return True\n",
        "    return False\n",
        "\n",
        "\n",
        "def maintain(setpoint, savefile):\n",
        "  lastaddtime=time.time()\n",
        "  startTime=time.time()\n",
        "  while True:\n",
        "    curDeltaP=getDeltaP(10)\n",
        "    print (str(time.time()-startTime)+\",\"+str(getDeltaP(10)), file = savefile)\n",
        "    if curDeltaP<setpoint and stable(300) and (time.time()-lastaddtime)>300:\n",
        "      addxanthan((setpoint-curDeltaP)/.0146)\n",
        "      lastaddtime=time.time()\n",
        "    savefile.flush()\n",
        "    sleep(10)\n",
        "\n"
      ],
      "execution_count": null,
      "outputs": []
    },
    {
      "cell_type": "code",
      "metadata": {
        "colab": {
          "base_uri": "https://localhost:8080/"
        },
        "id": "7DKzXFRLOWyx",
        "outputId": "fa417692-5024-46d2-8992-b7bcc88686f6"
      },
      "source": [
        "stable(300)"
      ],
      "execution_count": null,
      "outputs": [
        {
          "output_type": "stream",
          "text": [
            "3000\n"
          ],
          "name": "stdout"
        },
        {
          "output_type": "stream",
          "text": [
            "/usr/local/lib/python3.7/dist-packages/IPython/core/interactiveshell.py:2828: DtypeWarning: Columns (0,1,2,3,4,5,6,7,8,9,10,11,12) have mixed types.Specify dtype option on import or set low_memory=False.\n",
            "  if self.run_code(code, result):\n"
          ],
          "name": "stderr"
        },
        {
          "output_type": "execute_result",
          "data": {
            "text/plain": [
              "True"
            ]
          },
          "metadata": {
            "tags": []
          },
          "execution_count": 53
        }
      ]
    }
  ]
}